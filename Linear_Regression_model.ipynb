{
  "nbformat": 4,
  "nbformat_minor": 0,
  "metadata": {
    "colab": {
      "provenance": [],
      "authorship_tag": "ABX9TyOs8suDkWQpiKk+zph+BEZo",
      "include_colab_link": true
    },
    "kernelspec": {
      "name": "python3",
      "display_name": "Python 3"
    },
    "language_info": {
      "name": "python"
    }
  },
  "cells": [
    {
      "cell_type": "markdown",
      "metadata": {
        "id": "view-in-github",
        "colab_type": "text"
      },
      "source": [
        "<a href=\"https://colab.research.google.com/github/Tanishqtarun/PRMLProject/blob/main/Linear_Regression_model.ipynb\" target=\"_parent\"><img src=\"https://colab.research.google.com/assets/colab-badge.svg\" alt=\"Open In Colab\"/></a>"
      ]
    },
    {
      "cell_type": "code",
      "source": [
        "digits.data"
      ],
      "metadata": {
        "colab": {
          "base_uri": "https://localhost:8080/"
        },
        "id": "xTBH9Hxj-IIM",
        "outputId": "03c3c638-11c2-4b33-cd78-d6be345a376d"
      },
      "execution_count": 10,
      "outputs": [
        {
          "output_type": "execute_result",
          "data": {
            "text/plain": [
              "array([[ 0.,  0.,  5., ...,  0.,  0.,  0.],\n",
              "       [ 0.,  0.,  0., ..., 10.,  0.,  0.],\n",
              "       [ 0.,  0.,  0., ..., 16.,  9.,  0.],\n",
              "       ...,\n",
              "       [ 0.,  0.,  1., ...,  6.,  0.,  0.],\n",
              "       [ 0.,  0.,  2., ..., 12.,  0.,  0.],\n",
              "       [ 0.,  0., 10., ..., 12.,  1.,  0.]])"
            ]
          },
          "metadata": {},
          "execution_count": 10
        }
      ]
    },
    {
      "cell_type": "code",
      "source": [
        "# Features (flattened 8x8 images)\n",
        "X = digits.data\n",
        "\n",
        "# Target labels (digits 0-9)\n",
        "y = digits.target\n"
      ],
      "metadata": {
        "id": "xqiB7M4Q-YPO"
      },
      "execution_count": 11,
      "outputs": []
    },
    {
      "cell_type": "code",
      "source": [
        "import pandas as pd\n",
        "\n",
        "# Load the CSV file (adjust the path if needed)\n",
        "digits = pd.read_csv('/content/sample_data/mnist_test.csv')\n",
        "\n",
        "# Inspect the first few rows of the dataset\n",
        "print(digits.head())  # Shows the first 5 rows of the data to check structure\n",
        "\n",
        "# Check the shape of the dataset\n",
        "print(digits.shape)  # Should print (number of samples, number of features + 1 label column)\n",
        "\n",
        "# Check the data types of columns\n",
        "print(digits.dtypes)\n"
      ],
      "metadata": {
        "colab": {
          "base_uri": "https://localhost:8080/"
        },
        "id": "dJMJwAn29-n5",
        "outputId": "888b818d-3c21-4f8b-e0bc-90462b300fe1"
      },
      "execution_count": 12,
      "outputs": [
        {
          "output_type": "stream",
          "name": "stdout",
          "text": [
            "   7  0  0.1  0.2  0.3  0.4  0.5  0.6  0.7  0.8  ...  0.658  0.659  0.660  \\\n",
            "0  2  0    0    0    0    0    0    0    0    0  ...      0      0      0   \n",
            "1  1  0    0    0    0    0    0    0    0    0  ...      0      0      0   \n",
            "2  0  0    0    0    0    0    0    0    0    0  ...      0      0      0   \n",
            "3  4  0    0    0    0    0    0    0    0    0  ...      0      0      0   \n",
            "4  1  0    0    0    0    0    0    0    0    0  ...      0      0      0   \n",
            "\n",
            "   0.661  0.662  0.663  0.664  0.665  0.666  0.667  \n",
            "0      0      0      0      0      0      0      0  \n",
            "1      0      0      0      0      0      0      0  \n",
            "2      0      0      0      0      0      0      0  \n",
            "3      0      0      0      0      0      0      0  \n",
            "4      0      0      0      0      0      0      0  \n",
            "\n",
            "[5 rows x 785 columns]\n",
            "(9999, 785)\n",
            "7        int64\n",
            "0        int64\n",
            "0.1      int64\n",
            "0.2      int64\n",
            "0.3      int64\n",
            "         ...  \n",
            "0.663    int64\n",
            "0.664    int64\n",
            "0.665    int64\n",
            "0.666    int64\n",
            "0.667    int64\n",
            "Length: 785, dtype: object\n"
          ]
        }
      ]
    },
    {
      "cell_type": "code",
      "source": [
        "from sklearn.model_selection import train_test_split\n",
        "\n",
        "# Split dataset into training (80%) and testing (20%) sets\n",
        "X_train, X_test, y_train, y_test = train_test_split(X, y, test_size=0.2, random_state=42)\n"
      ],
      "metadata": {
        "id": "bEZ9i8IC-ac0"
      },
      "execution_count": 13,
      "outputs": []
    },
    {
      "cell_type": "code",
      "source": [
        "#Linear Regression model\n",
        "from sklearn import datasets\n",
        "from sklearn.model_selection import train_test_split\n",
        "from sklearn.linear_model import LinearRegression\n",
        "from sklearn.metrics import accuracy_score\n",
        "import numpy as np\n",
        "\n",
        "# Load the MNIST-like dataset (8x8 images of digits)\n",
        "digits = datasets.load_digits()\n",
        "\n",
        "# Extract features (flattened 8x8 images) and target labels\n",
        "X = digits.data  # 1797 samples, 64 features (8x8 pixels)\n",
        "y = digits.target  # 1797 target labels (digits 0-9)\n",
        "\n",
        "# Split the dataset into training (80%) and testing (20%) sets\n",
        "X_train, X_test, y_train, y_test = train_test_split(X, y, test_size=0.2, random_state=42)\n",
        "\n",
        "# Initialize the Linear Regression model\n",
        "model = LinearRegression()\n",
        "\n",
        "# Train the model on the training data\n",
        "model.fit(X_train, y_train)\n",
        "\n",
        "# Make predictions on the test set\n",
        "y_pred = model.predict(X_test)\n",
        "\n",
        "# Round the predictions to the nearest integer (since we're predicting digits)\n",
        "y_pred_rounded = np.round(y_pred).astype(int)\n",
        "\n",
        "# Evaluate the model by comparing predicted and actual labels\n",
        "accuracy = accuracy_score(y_test, y_pred_rounded)\n",
        "\n",
        "# Display the results\n",
        "print(f\"Linear Regression Accuracy: {accuracy}\")\n",
        "\n"
      ],
      "metadata": {
        "colab": {
          "base_uri": "https://localhost:8080/"
        },
        "id": "oe2utiBK-gee",
        "outputId": "c2d3930f-c95a-426e-88c7-41e424997773"
      },
      "execution_count": 14,
      "outputs": [
        {
          "output_type": "stream",
          "name": "stdout",
          "text": [
            "Linear Regression Accuracy: 0.21388888888888888\n"
          ]
        }
      ]
    },
    {
      "cell_type": "code",
      "source": [
        "# Make predictions on the test set\n",
        "y_pred = model.predict(X_test)\n",
        "\n",
        "# Round the predictions to the nearest integer (since we're predicting digits)\n",
        "y_pred_rounded = [round(x) for x in y_pred]\n"
      ],
      "metadata": {
        "id": "PyEXc03F-tVx"
      },
      "execution_count": 15,
      "outputs": []
    },
    {
      "cell_type": "code",
      "source": [
        "from sklearn.metrics import accuracy_score\n",
        "\n",
        "# Evaluate the model by comparing predicted and actual labels\n",
        "accuracy = accuracy_score(y_test, y_pred_rounded)\n",
        "\n",
        "print(f\"Accuracy: {accuracy*100} %\")\n"
      ],
      "metadata": {
        "colab": {
          "base_uri": "https://localhost:8080/"
        },
        "id": "HPnKEjGR-0hK",
        "outputId": "b2c0d0e6-48bc-4484-f263-de9758ade093"
      },
      "execution_count": 16,
      "outputs": [
        {
          "output_type": "stream",
          "name": "stdout",
          "text": [
            "Accuracy: 21.38888888888889 %\n"
          ]
        }
      ]
    }
  ]
}