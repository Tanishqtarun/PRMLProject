{
  "nbformat": 4,
  "nbformat_minor": 0,
  "metadata": {
    "colab": {
      "provenance": [],
      "authorship_tag": "ABX9TyNtaVwSzyiqoP2dnDDX9e2v",
      "include_colab_link": true
    },
    "kernelspec": {
      "name": "python3",
      "display_name": "Python 3"
    },
    "language_info": {
      "name": "python"
    }
  },
  "cells": [
    {
      "cell_type": "markdown",
      "metadata": {
        "id": "view-in-github",
        "colab_type": "text"
      },
      "source": [
        "<a href=\"https://colab.research.google.com/github/Tanishqtarun/PRMLProject/blob/main/Decision_tree.ipynb\" target=\"_parent\"><img src=\"https://colab.research.google.com/assets/colab-badge.svg\" alt=\"Open In Colab\"/></a>"
      ]
    },
    {
      "source": [
        "!pip install tqdm\n",
        "\n",
        "import numpy as np\n",
        "import matplotlib.pyplot as plt\n",
        "from sklearn.metrics import accuracy_score, classification_report, confusion_matrix\n",
        "from sklearn.model_selection import train_test_split\n",
        "from sklearn.datasets import fetch_openml\n",
        "from tqdm import tqdm\n",
        "\n",
        "# Custom Decision Tree Implementation (simplified)\n",
        "class DecisionTree:\n",
        "    def __init__(self, max_depth=None):\n",
        "        self.max_depth = max_depth\n",
        "\n",
        "    def fit(self, X, y):\n",
        "        self.tree = self._build_tree(X, y, depth=0)\n",
        "\n",
        "    def predict(self, X):\n",
        "        predictions = [self._traverse_tree(x, self.tree) for x in X]\n",
        "        return np.array(predictions)\n",
        "\n",
        "    def _build_tree(self, X, y, depth):\n",
        "        # Base case: If all labels are the same or max_depth reached\n",
        "        if len(set(y)) == 1 or (self.max_depth is not None and depth >= self.max_depth):\n",
        "            return {'class': y[0]}  # Leaf node\n",
        "\n",
        "        # Find best split\n",
        "        best_feature, best_threshold = self._find_best_split(X, y)\n",
        "\n",
        "        # Create node\n",
        "        node = {'feature': best_feature, 'threshold': best_threshold, 'left': None, 'right': None}\n",
        "\n",
        "        # Split data\n",
        "        left_indices = X[:, best_feature] <= best_threshold\n",
        "        right_indices = ~left_indices\n",
        "\n",
        "        # Recursively build subtrees\n",
        "        node['left'] = self._build_tree(X[left_indices], y[left_indices], depth + 1)\n",
        "        node['right'] = self._build_tree(X[right_indices], y[right_indices], depth + 1)\n",
        "\n",
        "        return node\n",
        "\n",
        "    def _find_best_split(self, X, y):\n",
        "        # Simplified split finding (using Gini impurity)\n",
        "        best_gini = float('inf')\n",
        "        best_feature, best_threshold = None, None\n",
        "\n",
        "        for feature in tqdm(range(X.shape[1]), desc=\"Finding best split\"): # Added tqdm here\n",
        "            thresholds = np.unique(X[:, feature])\n",
        "            for threshold in thresholds:\n",
        "                left_indices = X[:, feature] <= threshold\n",
        "                right_indices = ~left_indices\n",
        "\n",
        "                gini = self._gini_impurity(y[left_indices]) + self._gini_impurity(y[right_indices])\n",
        "\n",
        "                if gini < best_gini:\n",
        "                    best_gini = gini\n",
        "                    best_feature = feature\n",
        "                    best_threshold = threshold\n",
        "\n",
        "        return best_feature, best_threshold\n",
        "\n",
        "    def _gini_impurity(self, y):\n",
        "        if len(y) == 0:\n",
        "            return 0\n",
        "\n",
        "        # Fix: Handle cases with only one unique class\n",
        "        if len(np.unique(y)) == 1:\n",
        "            return 0\n",
        "\n",
        "        proportions = np.bincount(y) / len(y)\n",
        "        return 1 - np.sum(proportions**2)\n",
        "\n",
        "    def _traverse_tree(self, x, node):\n",
        "        if 'class' in node:\n",
        "            return node['class']\n",
        "        if x[node['feature']] <= node['threshold']:\n",
        "            return self._traverse_tree(x, node['left'])\n",
        "        else:\n",
        "            return self._traverse_tree(x, node['right'])\n",
        "\n",
        "# Load the MNIST dataset\n",
        "mnist = fetch_openml('mnist_784', version=1, as_frame=False)  # Load as numpy array\n",
        "X, y = mnist.data, mnist.target.astype(int)  # Convert labels to integers\n",
        "\n",
        "# Split data into training and testing sets\n",
        "X_train_full, X_test, y_train_full, y_test = train_test_split(X, y, test_size=0.2, random_state=42)\n",
        "\n",
        "# Flatten images from 28x28 to 784\n",
        "X_train_full = X_train_full.reshape(-1, 28 * 28)\n",
        "X_test = X_test.reshape(-1, 28 * 28)\n",
        "\n",
        "# Normalize pixel values to 0-1\n",
        "X_train_full = X_train_full / 255.0\n",
        "X_test = X_test / 255.0\n",
        "\n",
        "# Use a smaller subset to speed up training (optional, Decision Trees can be slow)\n",
        "X_train, _, y_train, _ = train_test_split(X_train_full, y_train_full, train_size=10000, stratify=y_train_full, random_state=42)\n",
        "\n",
        "# Create the Decision Tree classifier\n",
        "clf = DecisionTree(max_depth=5)  # Using custom DecisionTree class with max_depth for control\n",
        "\n",
        "# Train the classifier\n",
        "clf.fit(X_train, y_train)\n",
        "\n",
        "# Predict on test data\n",
        "y_pred = clf.predict(X_test)\n",
        "\n",
        "# Evaluate performance\n",
        "print(\"Accuracy:\", accuracy_score(y_test, y_pred))\n",
        "print(\"\\nClassification Report:\\n\", classification_report(y_test, y_pred))\n",
        "print(\"Confusion Matrix:\\n\", confusion_matrix(y_test, y_pred))\n",
        "\n",
        "# Visualize some predictions\n",
        "plt.figure(figsize=(10, 4))\n",
        "for i in range(10):\n",
        "    plt.subplot(2, 5, i + 1)\n",
        "    plt.imshow(X_test[i].reshape(28, 28), cmap='gray')\n",
        "    plt.title(f\"Pred: {y_pred[i]}\")\n",
        "    plt.axis('off')\n",
        "plt.tight_layout()\n",
        "plt.show()"
      ],
      "cell_type": "code",
      "metadata": {
        "colab": {
          "base_uri": "https://localhost:8080/",
          "height": 1000
        },
        "id": "3O5UkIaq6sSK",
        "outputId": "70249c37-b0fd-4e2d-aff6-5eaca89e0255"
      },
      "execution_count": 8,
      "outputs": [
        {
          "output_type": "stream",
          "name": "stdout",
          "text": [
            "Requirement already satisfied: tqdm in /usr/local/lib/python3.11/dist-packages (4.67.1)\n"
          ]
        },
        {
          "output_type": "stream",
          "name": "stderr",
          "text": [
            "Finding best split: 100%|██████████| 784/784 [00:32<00:00, 23.85it/s]\n",
            "Finding best split: 100%|██████████| 784/784 [00:38<00:00, 20.61it/s]\n",
            "Finding best split: 100%|██████████| 784/784 [00:34<00:00, 22.77it/s]\n",
            "Finding best split: 100%|██████████| 784/784 [00:33<00:00, 23.50it/s]\n",
            "Finding best split: 100%|██████████| 784/784 [00:32<00:00, 23.83it/s]\n",
            "/usr/local/lib/python3.11/dist-packages/sklearn/metrics/_classification.py:1565: UndefinedMetricWarning: Precision is ill-defined and being set to 0.0 in labels with no predicted samples. Use `zero_division` parameter to control this behavior.\n",
            "  _warn_prf(average, modifier, f\"{metric.capitalize()} is\", len(result))\n",
            "/usr/local/lib/python3.11/dist-packages/sklearn/metrics/_classification.py:1565: UndefinedMetricWarning: Precision is ill-defined and being set to 0.0 in labels with no predicted samples. Use `zero_division` parameter to control this behavior.\n",
            "  _warn_prf(average, modifier, f\"{metric.capitalize()} is\", len(result))\n",
            "/usr/local/lib/python3.11/dist-packages/sklearn/metrics/_classification.py:1565: UndefinedMetricWarning: Precision is ill-defined and being set to 0.0 in labels with no predicted samples. Use `zero_division` parameter to control this behavior.\n",
            "  _warn_prf(average, modifier, f\"{metric.capitalize()} is\", len(result))\n"
          ]
        },
        {
          "output_type": "stream",
          "name": "stdout",
          "text": [
            "Accuracy: 0.10342857142857143\n",
            "\n",
            "Classification Report:\n",
            "               precision    recall  f1-score   support\n",
            "\n",
            "           0       0.10      1.00      0.18      1343\n",
            "           1       0.00      0.00      0.00      1600\n",
            "           2       0.00      0.00      0.00      1380\n",
            "           3       0.00      0.00      0.00      1433\n",
            "           4       0.00      0.00      0.00      1295\n",
            "           5       0.00      0.00      0.00      1273\n",
            "           6       0.95      0.08      0.14      1396\n",
            "           7       0.00      0.00      0.00      1503\n",
            "           8       0.00      0.00      0.00      1357\n",
            "           9       0.00      0.00      0.00      1420\n",
            "\n",
            "    accuracy                           0.10     14000\n",
            "   macro avg       0.11      0.11      0.03     14000\n",
            "weighted avg       0.10      0.10      0.03     14000\n",
            "\n",
            "Confusion Matrix:\n",
            " [[1342    0    0    0    0    0    1    0    0    0]\n",
            " [1600    0    0    0    0    0    0    0    0    0]\n",
            " [1376    0    0    0    0    0    4    0    0    0]\n",
            " [1433    0    0    0    0    0    0    0    0    0]\n",
            " [1295    0    0    0    0    0    0    0    0    0]\n",
            " [1273    0    0    0    0    0    0    0    0    0]\n",
            " [1290    0    0    0    0    0  106    0    0    0]\n",
            " [1503    0    0    0    0    0    0    0    0    0]\n",
            " [1357    0    0    0    0    0    0    0    0    0]\n",
            " [1420    0    0    0    0    0    0    0    0    0]]\n"
          ]
        },
        {
          "output_type": "display_data",
          "data": {
            "text/plain": [
              "<Figure size 1000x400 with 10 Axes>"
            ],
            "image/png": "[encoded data removed]"
          },
          "metadata": {}
        }
      ]
    }
  ]
}