{
  "cells": [
    {
      "cell_type": "markdown",
      "metadata": {
        "id": "view-in-github",
        "colab_type": "text"
      },
      "source": [
        "<a href=\"https://colab.research.google.com/github/Tanishqtarun/PRMLProject/blob/main/KNN_model.ipynb\" target=\"_parent\"><img src=\"https://colab.research.google.com/assets/colab-badge.svg\" alt=\"Open In Colab\"/></a>"
      ]
    },
    {
      "cell_type": "code",
      "execution_count": null,
      "metadata": {
        "id": "yqaOPDrXr6gp",
        "colab": {
          "base_uri": "https://localhost:8080/"
        },
        "outputId": "88cf6d4e-5fe3-4f61-ffd2-6787489cc043"
      },
      "outputs": [
        {
          "output_type": "execute_result",
          "data": {
            "text/plain": [
              "array([[ 0.,  0.,  5., ...,  0.,  0.,  0.],\n",
              "       [ 0.,  0.,  0., ..., 10.,  0.,  0.],\n",
              "       [ 0.,  0.,  0., ..., 16.,  9.,  0.],\n",
              "       ...,\n",
              "       [ 0.,  0.,  1., ...,  6.,  0.,  0.],\n",
              "       [ 0.,  0.,  2., ..., 12.,  0.,  0.],\n",
              "       [ 0.,  0., 10., ..., 12.,  1.,  0.]])"
            ]
          },
          "metadata": {},
          "execution_count": 46
        }
      ],
      "source": [
        "digits.data"
      ]
    },
    {
      "cell_type": "code",
      "execution_count": null,
      "metadata": {
        "id": "fFEd4i-asSI2"
      },
      "outputs": [],
      "source": [
        "# Features (flattened 8x8 images)\n",
        "X = digits.data\n",
        "\n",
        "# Target labels (digits 0-9)\n",
        "y = digits.target"
      ]
    },
    {
      "cell_type": "code",
      "execution_count": null,
      "metadata": {
        "colab": {
          "base_uri": "https://localhost:8080/"
        },
        "id": "JG7INXddsVCy",
        "outputId": "8bb6a53d-3c90-4f95-e6fd-334c9575cc18"
      },
      "outputs": [
        {
          "output_type": "stream",
          "name": "stdout",
          "text": [
            "   7  0  0.1  0.2  0.3  0.4  0.5  0.6  0.7  0.8  ...  0.658  0.659  0.660  \\\n",
            "0  2  0    0    0    0    0    0    0    0    0  ...      0      0      0   \n",
            "1  1  0    0    0    0    0    0    0    0    0  ...      0      0      0   \n",
            "2  0  0    0    0    0    0    0    0    0    0  ...      0      0      0   \n",
            "3  4  0    0    0    0    0    0    0    0    0  ...      0      0      0   \n",
            "4  1  0    0    0    0    0    0    0    0    0  ...      0      0      0   \n",
            "\n",
            "   0.661  0.662  0.663  0.664  0.665  0.666  0.667  \n",
            "0      0      0      0      0      0      0      0  \n",
            "1      0      0      0      0      0      0      0  \n",
            "2      0      0      0      0      0      0      0  \n",
            "3      0      0      0      0      0      0      0  \n",
            "4      0      0      0      0      0      0      0  \n",
            "\n",
            "[5 rows x 785 columns]\n",
            "(9999, 785)\n",
            "7        int64\n",
            "0        int64\n",
            "0.1      int64\n",
            "0.2      int64\n",
            "0.3      int64\n",
            "         ...  \n",
            "0.663    int64\n",
            "0.664    int64\n",
            "0.665    int64\n",
            "0.666    int64\n",
            "0.667    int64\n",
            "Length: 785, dtype: object\n"
          ]
        }
      ],
      "source": [
        "import pandas as pd\n",
        "\n",
        "# Load the CSV file (adjust the path if needed)\n",
        "digits = pd.read_csv('/content/sample_data/mnist_test.csv')\n",
        "\n",
        "# Inspect the first few rows of the dataset\n",
        "print(digits.head())  # Shows the first 5 rows of the data to check structure\n",
        "\n",
        "# Check the shape of the dataset\n",
        "print(digits.shape)  # Should print (number of samples, number of features + 1 label column)\n",
        "\n",
        "# Check the data types of columns\n",
        "print(digits.dtypes)\n"
      ]
    },
    {
      "cell_type": "code",
      "execution_count": null,
      "metadata": {
        "id": "ontaUtonscMx"
      },
      "outputs": [],
      "source": [
        "from sklearn.model_selection import train_test_split\n",
        "\n",
        "# Split dataset into training (80%) and testing (20%) sets\n",
        "X_train, X_test, y_train, y_test = train_test_split(X, y, test_size=0.2, random_state=42)\n"
      ]
    },
    {
      "cell_type": "code",
      "execution_count": null,
      "metadata": {
        "id": "FgESOnPgsmTY",
        "colab": {
          "base_uri": "https://localhost:8080/",
          "height": 209
        },
        "outputId": "cd3e3eca-2667-4aff-cf3a-21659eff33f9"
      },
      "outputs": [
        {
          "output_type": "stream",
          "name": "stdout",
          "text": [
            "KNN Accuracy: 97.13%\n"
          ]
        },
        {
          "output_type": "display_data",
          "data": {
            "text/plain": [
              "<Figure size 1000x500 with 5 Axes>"
            ],
            "image/png": "[encoded data removed]"
          },
          "metadata": {}
        }
      ],
      "source": [
        "#KNN\n",
        "import numpy as np\n",
        "import matplotlib.pyplot as plt\n",
        "from sklearn.datasets import fetch_openml\n",
        "from sklearn.model_selection import train_test_split\n",
        "from sklearn.preprocessing import StandardScaler\n",
        "from sklearn.neighbors import KNeighborsClassifier\n",
        "from sklearn.metrics import accuracy_score\n",
        "\n",
        "# Step 1: Load MNIST dataset\n",
        "mnist = fetch_openml('mnist_784', version=1)\n",
        "X, y = mnist.data, mnist.target.astype(int)  # Convert labels to integers\n",
        "\n",
        "# Step 2: Normalize data (scaling pixel values between 0 and 1)\n",
        "X = X / 255.0\n",
        "\n",
        "# Step 3: Split into training and testing sets\n",
        "X_train, X_test, y_train, y_test = train_test_split(X, y, test_size=0.2, random_state=42)\n",
        "\n",
        "# Step 4: Train KNN model\n",
        "k = 3  # Number of neighbors\n",
        "knn = KNeighborsClassifier(n_neighbors=k)\n",
        "knn.fit(X_train, y_train)\n",
        "\n",
        "# Step 5: Make predictions\n",
        "y_pred = knn.predict(X_test)\n",
        "\n",
        "# Step 6: Evaluate accuracy\n",
        "accuracy = accuracy_score(y_test, y_pred)\n",
        "print(f'KNN Accuracy: {accuracy * 100:.2f}%')\n",
        "\n",
        "# Step 7: Visualize some predictions\n",
        "fig, axes = plt.subplots(1, 5, figsize=(10, 5))\n",
        "for i, ax in enumerate(axes):\n",
        "    ax.imshow(X_test.iloc[i].values.reshape(28, 28), cmap='gray')\n",
        "    ax.set_title(f'Pred: {y_pred[i]}')\n",
        "    ax.axis('off')\n",
        "plt.show()"
      ]
    },
    {
      "cell_type": "code",
      "execution_count": null,
      "metadata": {
        "id": "4iPZso-_svhW"
      },
      "outputs": [],
      "source": [
        "# Make predictions on the test set using the trained KNN model (knn)\n",
        "y_pred = knn.predict(X_test)\n",
        "\n",
        "# Round the predictions to the nearest integer (since we're predicting digits)\n",
        "y_pred_rounded = [round(x) for x in y_pred]\n"
      ]
    },
    {
      "cell_type": "code",
      "execution_count": null,
      "metadata": {
        "id": "qZ_uUruCsxLO",
        "colab": {
          "base_uri": "https://localhost:8080/"
        },
        "outputId": "358ca19a-85d9-43eb-bf66-bebc25d60561"
      },
      "outputs": [
        {
          "output_type": "stream",
          "name": "stdout",
          "text": [
            "Accuracy: 97.12857142857143 %\n"
          ]
        }
      ],
      "source": [
        "from sklearn.metrics import accuracy_score\n",
        "\n",
        "# Evaluate the model by comparing predicted and actual labels\n",
        "accuracy = accuracy_score(y_test, y_pred_rounded)\n",
        "\n",
        "print(f\"Accuracy: {accuracy*100} %\")\n"
      ]
    }
  ],
  "metadata": {
    "colab": {
      "provenance": [],
      "include_colab_link": true
    },
    "kernelspec": {
      "display_name": "Python 3",
      "name": "python3"
    },
    "language_info": {
      "name": "python"
    }
  },
  "nbformat": 4,
  "nbformat_minor": 0
}