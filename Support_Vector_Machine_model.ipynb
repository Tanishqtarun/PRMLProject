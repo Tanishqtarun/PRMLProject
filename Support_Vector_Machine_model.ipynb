{
  "nbformat": 4,
  "nbformat_minor": 0,
  "metadata": {
    "colab": {
      "provenance": [],
      "include_colab_link": true
    },
    "kernelspec": {
      "name": "python3",
      "display_name": "Python 3"
    },
    "language_info": {
      "name": "python"
    }
  },
  "cells": [
    {
      "cell_type": "markdown",
      "metadata": {
        "id": "view-in-github",
        "colab_type": "text"
      },
      "source": [
        "<a href=\"https://colab.research.google.com/github/Tanishqtarun/PRMLProject/blob/main/Support_Vector_Machine_model.ipynb\" target=\"_parent\"><img src=\"https://colab.research.google.com/assets/colab-badge.svg\" alt=\"Open In Colab\"/></a>"
      ]
    },
    {
      "cell_type": "code",
      "execution_count": 5,
      "metadata": {
        "colab": {
          "base_uri": "https://localhost:8080/"
        },
        "id": "0leX8T4R0kbH",
        "outputId": "6b27953e-8b89-487a-a048-23539aa4ece5"
      },
      "outputs": [
        {
          "output_type": "execute_result",
          "data": {
            "text/plain": [
              "array([[ 0.,  0.,  5., ...,  0.,  0.,  0.],\n",
              "       [ 0.,  0.,  0., ..., 10.,  0.,  0.],\n",
              "       [ 0.,  0.,  0., ..., 16.,  9.,  0.],\n",
              "       ...,\n",
              "       [ 0.,  0.,  1., ...,  6.,  0.,  0.],\n",
              "       [ 0.,  0.,  2., ..., 12.,  0.,  0.],\n",
              "       [ 0.,  0., 10., ..., 12.,  1.,  0.]])"
            ]
          },
          "metadata": {},
          "execution_count": 5
        }
      ],
      "source": [
        "# Import necessary libraries\n",
        "import pandas as pd\n",
        "from sklearn.datasets import load_digits\n",
        "\n",
        "# Load the digits dataset\n",
        "digits = load_digits()\n",
        "\n",
        "# Access the data\n",
        "digits.data"
      ]
    },
    {
      "cell_type": "code",
      "source": [
        "# Features (flattened 8x8 images)\n",
        "X = digits.data\n",
        "\n",
        "# Target labels (digits 0-9)\n",
        "y = digits.target"
      ],
      "metadata": {
        "id": "FUtqUsIH1GYq"
      },
      "execution_count": 6,
      "outputs": []
    },
    {
      "cell_type": "code",
      "source": [
        "import pandas as pd\n",
        "\n",
        "# Load the CSV file (adjust the path if needed)\n",
        "digits = pd.read_csv('/content/sample_data/mnist_test.csv')\n",
        "\n",
        "# Inspect the first few rows of the dataset\n",
        "print(digits.head())  # Shows the first 5 rows of the data to check structure\n",
        "\n",
        "# Check the shape of the dataset\n",
        "print(digits.shape)  # Should print (number of samples, number of features + 1 label column)\n",
        "\n",
        "# Check the data types of columns\n",
        "print(digits.dtypes)\n"
      ],
      "metadata": {
        "colab": {
          "base_uri": "https://localhost:8080/"
        },
        "id": "T0zlQQGA1Igc",
        "outputId": "09721877-533c-44ff-d834-44be1f1d3399"
      },
      "execution_count": 7,
      "outputs": [
        {
          "output_type": "stream",
          "name": "stdout",
          "text": [
            "   7  0  0.1  0.2  0.3  0.4  0.5  0.6  0.7  0.8  ...  0.658  0.659  0.660  \\\n",
            "0  2  0    0    0    0    0    0    0    0    0  ...      0      0      0   \n",
            "1  1  0    0    0    0    0    0    0    0    0  ...      0      0      0   \n",
            "2  0  0    0    0    0    0    0    0    0    0  ...      0      0      0   \n",
            "3  4  0    0    0    0    0    0    0    0    0  ...      0      0      0   \n",
            "4  1  0    0    0    0    0    0    0    0    0  ...      0      0      0   \n",
            "\n",
            "   0.661  0.662  0.663  0.664  0.665  0.666  0.667  \n",
            "0      0      0      0      0      0      0      0  \n",
            "1      0      0      0      0      0      0      0  \n",
            "2      0      0      0      0      0      0      0  \n",
            "3      0      0      0      0      0      0      0  \n",
            "4      0      0      0      0      0      0      0  \n",
            "\n",
            "[5 rows x 785 columns]\n",
            "(9999, 785)\n",
            "7        int64\n",
            "0        int64\n",
            "0.1      int64\n",
            "0.2      int64\n",
            "0.3      int64\n",
            "         ...  \n",
            "0.663    int64\n",
            "0.664    int64\n",
            "0.665    int64\n",
            "0.666    int64\n",
            "0.667    int64\n",
            "Length: 785, dtype: object\n"
          ]
        }
      ]
    },
    {
      "cell_type": "code",
      "source": [
        "# svm\n",
        "import numpy as np\n",
        "import matplotlib.pyplot as plt\n",
        "from sklearn.datasets import fetch_openml\n",
        "from sklearn.model_selection import train_test_split\n",
        "from sklearn.svm import SVC\n",
        "from sklearn.metrics import accuracy_score\n",
        "\n",
        "# Step 1: Load the MNIST dataset\n",
        "print(\"Loading MNIST dataset...\")\n",
        "mnist = fetch_openml('mnist_784', version=1)\n",
        "X, y = mnist.data, mnist.target.astype(int)\n",
        "\n",
        "# Step 2: Normalize pixel values to [0, 1]\n",
        "X = X / 255.0\n",
        "\n",
        "# Step 3: Split dataset into training and testing sets (80/20)\n",
        "X_train, X_test, y_train, y_test = train_test_split(\n",
        "    X, y, test_size=0.2, random_state=42\n",
        ")\n",
        "\n",
        "# Step 4: Initialize and train the SVM classifier with a linear kernel\n",
        "print(\"Training SVM Classifier...\")\n",
        "svm = SVC(kernel='linear', random_state=42)  # Use linear kernel\n",
        "svm.fit(X_train, y_train)\n",
        "\n",
        "# Step 5: Make predictions\n",
        "print(\"Making predictions...\")\n",
        "y_pred = svm.predict(X_test)\n",
        "\n",
        "# Step 6: Evaluate the model\n",
        "accuracy = accuracy_score(y_test, y_pred)\n",
        "print(f\"SVM Accuracy: {accuracy * 100:.2f}%\")\n",
        "\n",
        "# Step 7: Visualize a few predictions\n",
        "print(\"Visualizing predictions...\")\n",
        "fig, axes = plt.subplots(1, 5, figsize=(10, 5))\n",
        "for i, ax in enumerate(axes):\n",
        "    ax.imshow(X_test.iloc[i].values.reshape(28, 28), cmap='gray')\n",
        "    ax.set_title(f'Pred: {y_pred[i]}')\n",
        "    ax.axis('off')\n",
        "plt.tight_layout()\n",
        "plt.show()"
      ],
      "metadata": {
        "colab": {
          "base_uri": "https://localhost:8080/",
          "height": 328
        },
        "id": "CoKMSHJR1LNY",
        "outputId": "cc46c980-980f-4497-9ec4-c1bf4e263af1"
      },
      "execution_count": 8,
      "outputs": [
        {
          "output_type": "stream",
          "name": "stdout",
          "text": [
            "Loading MNIST dataset...\n",
            "Training SVM Classifier...\n",
            "Making predictions...\n",
            "SVM Accuracy: 93.51%\n",
            "Visualizing predictions...\n"
          ]
        },
        {
          "output_type": "display_data",
          "data": {
            "text/plain": [
              "<Figure size 1000x500 with 5 Axes>"
            ],
            "image/png": "[encoded data removed]"
          },
          "metadata": {}
        }
      ]
    },
    {
      "cell_type": "code",
      "source": [
        "# Make predictions on the test set using the trained KNN model (knn)\n",
        "y_pred = svm.predict(X_test)\n",
        "\n",
        "# Round the predictions to the nearest integer (since we're predicting digits)\n",
        "y_pred_rounded = [round(x) for x in y_pred]\n"
      ],
      "metadata": {
        "id": "ALm6y0yq1RBZ"
      },
      "execution_count": 9,
      "outputs": []
    },
    {
      "cell_type": "code",
      "source": [
        "from sklearn.metrics import accuracy_score\n",
        "\n",
        "# Evaluate the model by comparing predicted and actual labels\n",
        "accuracy = accuracy_score(y_test, y_pred_rounded)\n",
        "\n",
        "print(f\"Accuracy: {accuracy*100} %\")\n"
      ],
      "metadata": {
        "colab": {
          "base_uri": "https://localhost:8080/"
        },
        "id": "bDxTM3qZ1UU6",
        "outputId": "c6400fc7-7269-4df8-dcf9-8ce7c413694d"
      },
      "execution_count": 10,
      "outputs": [
        {
          "output_type": "stream",
          "name": "stdout",
          "text": [
            "Accuracy: 93.51428571428572 %\n"
          ]
        }
      ]
    }
  ]
}