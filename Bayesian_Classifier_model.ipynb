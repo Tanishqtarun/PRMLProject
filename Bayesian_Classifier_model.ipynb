{
  "cells": [
    {
      "cell_type": "markdown",
      "metadata": {
        "id": "view-in-github",
        "colab_type": "text"
      },
      "source": [
        "<a href=\"https://colab.research.google.com/github/Tanishqtarun/PRMLProject/blob/main/Bayesian_Classifier_model.ipynb\" target=\"_parent\"><img src=\"https://colab.research.google.com/assets/colab-badge.svg\" alt=\"Open In Colab\"/></a>"
      ]
    },
    {
      "cell_type": "code",
      "execution_count": 1,
      "metadata": {
        "colab": {
          "base_uri": "https://localhost:8080/"
        },
        "id": "AmeSlqJizS85",
        "outputId": "932357c5-2dde-4850-872c-56e8d81e9077"
      },
      "outputs": [
        {
          "output_type": "execute_result",
          "data": {
            "text/plain": [
              "array([[ 0.,  0.,  5., ...,  0.,  0.,  0.],\n",
              "       [ 0.,  0.,  0., ..., 10.,  0.,  0.],\n",
              "       [ 0.,  0.,  0., ..., 16.,  9.,  0.],\n",
              "       ...,\n",
              "       [ 0.,  0.,  1., ...,  6.,  0.,  0.],\n",
              "       [ 0.,  0.,  2., ..., 12.,  0.,  0.],\n",
              "       [ 0.,  0., 10., ..., 12.,  1.,  0.]])"
            ]
          },
          "metadata": {},
          "execution_count": 1
        }
      ],
      "source": [
        "# Import necessary libraries\n",
        "import pandas as pd\n",
        "from sklearn.datasets import load_digits\n",
        "\n",
        "# Load the digits dataset\n",
        "digits = load_digits()\n",
        "\n",
        "# Access the data\n",
        "digits.data"
      ]
    },
    {
      "cell_type": "code",
      "execution_count": 2,
      "metadata": {
        "id": "kRdixF64zf9z"
      },
      "outputs": [],
      "source": [
        "# Features (flattened 8x8 images)\n",
        "X = digits.data\n",
        "\n",
        "# Target labels (digits 0-9)\n",
        "y = digits.target"
      ]
    },
    {
      "cell_type": "code",
      "execution_count": 3,
      "metadata": {
        "colab": {
          "base_uri": "https://localhost:8080/"
        },
        "id": "4sUKGIlEzhjw",
        "outputId": "eb038f6c-5a26-4d74-e1f4-18d2eb5eda36"
      },
      "outputs": [
        {
          "output_type": "stream",
          "name": "stdout",
          "text": [
            "   7  0  0.1  0.2  0.3  0.4  0.5  0.6  0.7  0.8  ...  0.658  0.659  0.660  \\\n",
            "0  2  0    0    0    0    0    0    0    0    0  ...      0      0      0   \n",
            "1  1  0    0    0    0    0    0    0    0    0  ...      0      0      0   \n",
            "2  0  0    0    0    0    0    0    0    0    0  ...      0      0      0   \n",
            "3  4  0    0    0    0    0    0    0    0    0  ...      0      0      0   \n",
            "4  1  0    0    0    0    0    0    0    0    0  ...      0      0      0   \n",
            "\n",
            "   0.661  0.662  0.663  0.664  0.665  0.666  0.667  \n",
            "0      0      0      0      0      0      0      0  \n",
            "1      0      0      0      0      0      0      0  \n",
            "2      0      0      0      0      0      0      0  \n",
            "3      0      0      0      0      0      0      0  \n",
            "4      0      0      0      0      0      0      0  \n",
            "\n",
            "[5 rows x 785 columns]\n",
            "(9999, 785)\n",
            "7        int64\n",
            "0        int64\n",
            "0.1      int64\n",
            "0.2      int64\n",
            "0.3      int64\n",
            "         ...  \n",
            "0.663    int64\n",
            "0.664    int64\n",
            "0.665    int64\n",
            "0.666    int64\n",
            "0.667    int64\n",
            "Length: 785, dtype: object\n"
          ]
        }
      ],
      "source": [
        "import pandas as pd\n",
        "\n",
        "# Load the CSV file (adjust the path if needed)\n",
        "digits = pd.read_csv('/content/sample_data/mnist_test.csv')\n",
        "\n",
        "# Inspect the first few rows of the dataset\n",
        "print(digits.head())  # Shows the first 5 rows of the data to check structure\n",
        "\n",
        "# Check the shape of the dataset\n",
        "print(digits.shape)  # Should print (number of samples, number of features + 1 label column)\n",
        "\n",
        "# Check the data types of columns\n",
        "print(digits.dtypes)\n"
      ]
    },
    {
      "cell_type": "code",
      "execution_count": 4,
      "metadata": {
        "colab": {
          "base_uri": "https://localhost:8080/",
          "height": 295
        },
        "id": "NbQlJ-U6zkIs",
        "outputId": "97116d2e-d881-45ff-d2f6-975b80dae486"
      },
      "outputs": [
        {
          "output_type": "stream",
          "name": "stdout",
          "text": [
            "Loading MNIST dataset...\n",
            "Training Bernoulli Naive Bayes...\n",
            "Bernoulli Naive Bayes Accuracy: 82.71%\n"
          ]
        },
        {
          "output_type": "display_data",
          "data": {
            "text/plain": [
              "<Figure size 1000x500 with 5 Axes>"
            ],
            "image/png": "[encoded data removed]"
          },
          "metadata": {}
        }
      ],
      "source": [
        "# bayesian classifier\n",
        "import numpy as np\n",
        "import matplotlib.pyplot as plt\n",
        "from sklearn.datasets import fetch_openml\n",
        "from sklearn.model_selection import train_test_split\n",
        "from sklearn.naive_bayes import BernoulliNB\n",
        "from sklearn.metrics import accuracy_score\n",
        "\n",
        "# Step 1: Load MNIST dataset\n",
        "print(\"Loading MNIST dataset...\")\n",
        "mnist = fetch_openml('mnist_784', version=1)\n",
        "X, y = mnist.data / 255.0, mnist.target.astype(int)  # Normalize pixel values\n",
        "\n",
        "# Step 2: Binarize the data (0 if pixel < 0.5 else 1)\n",
        "X_bin = (X > 0.5).astype(int)\n",
        "\n",
        "# Step 3: Reduce dataset size for faster training\n",
        "X_sample, _, y_sample, _ = train_test_split(X_bin, y, train_size=12000, random_state=42)\n",
        "X_train, X_test, y_train, y_test = train_test_split(X_sample, y_sample, test_size=0.2, random_state=42)\n",
        "\n",
        "# Step 4: Train Bernoulli Naive Bayes model\n",
        "print(\"Training Bernoulli Naive Bayes...\")\n",
        "bnb = BernoulliNB()\n",
        "bnb.fit(X_train, y_train)\n",
        "\n",
        "# Step 5: Predict and evaluate\n",
        "y_pred = bnb.predict(X_test)\n",
        "accuracy = accuracy_score(y_test, y_pred)\n",
        "print(f\"Bernoulli Naive Bayes Accuracy: {accuracy * 100:.2f}%\")\n",
        "\n",
        "# Step 6: Visualize some predictions\n",
        "fig, axes = plt.subplots(1, 5, figsize=(10, 5))\n",
        "for i, ax in enumerate(axes):\n",
        "    ax.imshow(X_test.iloc[i].values.reshape(28, 28), cmap='gray')\n",
        "    ax.set_title(f'Pred: {y_pred[i]}')\n",
        "    ax.axis('off')\n",
        "plt.tight_layout()\n",
        "plt.show()"
      ]
    },
    {
      "cell_type": "code",
      "execution_count": 6,
      "metadata": {
        "id": "rJqhbcjqzm36"
      },
      "outputs": [],
      "source": [
        "# Make predictions on the test set using the trained KNN model (knn)\n",
        "y_pred = bnb.predict(X_test)\n",
        "\n",
        "# Round the predictions to the nearest integer (since we're predicting digits)\n",
        "y_pred_rounded = [round(x) for x in y_pred]\n"
      ]
    },
    {
      "cell_type": "code",
      "execution_count": 7,
      "metadata": {
        "colab": {
          "base_uri": "https://localhost:8080/"
        },
        "id": "yg8zscqS4TIu",
        "outputId": "016500ea-b0a1-4f9f-892b-2742dec3ef5d"
      },
      "outputs": [
        {
          "output_type": "stream",
          "name": "stdout",
          "text": [
            "Accuracy: 82.70833333333333 %\n"
          ]
        }
      ],
      "source": [
        "from sklearn.metrics import accuracy_score\n",
        "\n",
        "# Evaluate the model by comparing predicted and actual labels\n",
        "accuracy = accuracy_score(y_test, y_pred_rounded)\n",
        "\n",
        "print(f\"Accuracy: {accuracy*100} %\")\n"
      ]
    }
  ],
  "metadata": {
    "colab": {
      "provenance": [],
      "include_colab_link": true
    },
    "kernelspec": {
      "display_name": "Python 3",
      "name": "python3"
    },
    "language_info": {
      "name": "python"
    }
  },
  "nbformat": 4,
  "nbformat_minor": 0
}